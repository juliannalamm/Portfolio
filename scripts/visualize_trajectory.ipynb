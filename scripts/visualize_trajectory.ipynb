{
 "cells": [
  {
   "cell_type": "code",
   "execution_count": 3,
   "metadata": {},
   "outputs": [
    {
     "name": "stdout",
     "output_type": "stream",
     "text": [
      "Saving WebM: test_cl4xuuxyo000n356f8derlp9a.webm\n",
      "Saving MP4: test_cl4xuuxyo000n356f8derlp9a.mp4\n"
     ]
    }
   ],
   "source": [
    "import pandas as pd\n",
    "import numpy as np\n",
    "import matplotlib.pyplot as plt\n",
    "import matplotlib.animation as animation\n",
    "\n",
    "# Load the dataset\n",
    "file_path = \"../public/data/merged_participant_data.csv\"\n",
    "df = pd.read_csv(file_path)\n",
    "\n",
    "# function that can take an fid and generate animation \n",
    "def generate_fid_animation(fid, save_path_webm, save_path_mp4):\n",
    "    trajectory_df = df[df['fid'] == fid].sort_values(by='frame_number')\n",
    "\n",
    "    if trajectory_df.empty:\n",
    "        print(f\"No data found for FID {fid}\")\n",
    "        return\n",
    "\n",
    "    # Extract x and y coordinates\n",
    "    x_data = trajectory_df['center_x_um'].values\n",
    "    y_data = trajectory_df['center_y_um'].values\n",
    "\n",
    "\n",
    "    # Create figure and axis\n",
    "    fig, ax = plt.subplots(figsize=(6, 6), dpi=150)\n",
    "    fig.patch.set_facecolor(\"black\")  # Set entire figure background to black\n",
    "    ax.set_facecolor(\"black\")  # Set axis background to black\n",
    "    ax.set_xlim(min(x_data) - 5, max(x_data) + 5)\n",
    "    ax.set_ylim(min(y_data) - 5, max(y_data) + 5)\n",
    "    ax.axis(\"off\")  # Remove axes and ticks\n",
    "\n",
    "    # Initialize line plot\n",
    "    line, = ax.plot([], [], linestyle='-', color='white', alpha=0.9, linewidth=2.5)\n",
    "    scatter = ax.scatter([], [], color='white', s=1)\n",
    "\n",
    "    # Initialization function\n",
    "    def init():\n",
    "        line.set_data([], [])\n",
    "        scatter.set_offsets(np.empty((0, 2)))\n",
    "        return line, scatter\n",
    "\n",
    "    # for each frame, add the smoothed x and y data, increment \n",
    "    def update(frame):\n",
    "        line.set_data(x_data[:frame+1], y_data[:frame+1])\n",
    "        scatter.set_offsets(np.column_stack([x_data[:frame+1], y_data[:frame+1]]))\n",
    "        return line, scatter\n",
    "\n",
    "    # Create animation\n",
    "    ani = animation.FuncAnimation(fig, update, frames=len(x_data), init_func=init, blit=True, interval=30)\n",
    "\n",
    "\n",
    "    ani.save(save_path_mp4, writer=\"ffmpeg\", fps=30, dpi=150, codec=\"libx264\", extra_args=[\"-pix_fmt\", \"yuv420p\"])\n",
    "\n",
    "    plt.close(fig)  # Close figure to free memory\n",
    "\n",
    "fid_to_animate = \"cl4xuuxyo000n356f8derlp9a\"  #fid to animate \n",
    "save_path_webm = f\"test_{fid_to_animate}.webm\"\n",
    "save_path_mp4 = f\"test_{fid_to_animate}.mp4\"\n",
    "\n",
    "generate_fid_animation(fid_to_animate, save_path_webm, save_path_mp4)"
   ]
  },
  {
   "cell_type": "code",
   "execution_count": null,
   "metadata": {},
   "outputs": [],
   "source": []
  }
 ],
 "metadata": {
  "kernelspec": {
   "display_name": "base",
   "language": "python",
   "name": "python3"
  },
  "language_info": {
   "codemirror_mode": {
    "name": "ipython",
    "version": 3
   },
   "file_extension": ".py",
   "mimetype": "text/x-python",
   "name": "python",
   "nbconvert_exporter": "python",
   "pygments_lexer": "ipython3",
   "version": "3.12.2"
  }
 },
 "nbformat": 4,
 "nbformat_minor": 2
}
