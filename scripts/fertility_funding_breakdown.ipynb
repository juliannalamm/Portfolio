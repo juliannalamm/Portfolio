{
 "cells": [
  {
   "cell_type": "code",
   "execution_count": null,
   "metadata": {},
   "outputs": [],
   "source": [
    "import pandas as pd\n",
    "\n",
    "infertility_data = \"/data/infertility_04182024.xlsx\"\n",
    "df = pd.read_excel(infertility_data)\n",
    "\n",
    "df.columns = df.iloc[1]\n",
    "df = df.drop([0, 1]).reset_index(drop=True)\n",
    "\n",
    "# Convert funding amount column to numeric\n",
    "df['Amount'] = pd.to_numeric(df['Amount'], errors='coerce')\n",
    "\n",
    "# get uniique project names\n",
    "project_titles = df['Project Title'].dropna().unique()\n",
    "project_titles[:10]\n",
    "\n",
    "# count as male-related if title includes sperm, paternal, or andrology\n",
    "male_keywords = ['sperm', 'paternal', 'andrology']\n",
    "df['Male Related'] = df['Project Title'].str.lower().apply(\n",
    "    lambda title: any(keyword in title for keyword in male_keywords) if isinstance(title, str) else False\n",
    ")\n",
    "\n",
    "# Calculate total and male-related funding\n",
    "total_funding = df['Amount'].sum()\n",
    "male_funding = df[df['Male Related']]['Amount'].sum()\n",
    "\n",
    "total_funding, male_funding, (male_funding / total_funding) * 100  # percentage too"
   ]
  }
 ],
 "metadata": {
  "language_info": {
   "name": "python"
  }
 },
 "nbformat": 4,
 "nbformat_minor": 2
}
